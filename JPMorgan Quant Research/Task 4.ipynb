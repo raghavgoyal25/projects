{
 "cells": [
  {
   "cell_type": "markdown",
   "id": "062c91cf",
   "metadata": {},
   "source": [
    "# Bucket FICO Scores"
   ]
  },
  {
   "cell_type": "code",
   "execution_count": 18,
   "id": "20d8369b",
   "metadata": {},
   "outputs": [],
   "source": [
    "# Importing Libraries\n",
    "import pandas as pd\n",
    "import numpy as np\n",
    "import matplotlib.pyplot as plt\n",
    "%matplotlib inline"
   ]
  },
  {
   "cell_type": "code",
   "execution_count": 3,
   "id": "34e31851",
   "metadata": {},
   "outputs": [
    {
     "data": {
      "text/html": [
       "<div>\n",
       "<style scoped>\n",
       "    .dataframe tbody tr th:only-of-type {\n",
       "        vertical-align: middle;\n",
       "    }\n",
       "\n",
       "    .dataframe tbody tr th {\n",
       "        vertical-align: top;\n",
       "    }\n",
       "\n",
       "    .dataframe thead th {\n",
       "        text-align: right;\n",
       "    }\n",
       "</style>\n",
       "<table border=\"1\" class=\"dataframe\">\n",
       "  <thead>\n",
       "    <tr style=\"text-align: right;\">\n",
       "      <th></th>\n",
       "      <th>customer_id</th>\n",
       "      <th>credit_lines_outstanding</th>\n",
       "      <th>loan_amt_outstanding</th>\n",
       "      <th>total_debt_outstanding</th>\n",
       "      <th>income</th>\n",
       "      <th>years_employed</th>\n",
       "      <th>fico_score</th>\n",
       "      <th>default</th>\n",
       "    </tr>\n",
       "  </thead>\n",
       "  <tbody>\n",
       "    <tr>\n",
       "      <th>0</th>\n",
       "      <td>8153374</td>\n",
       "      <td>0</td>\n",
       "      <td>5221.545193</td>\n",
       "      <td>3915.471226</td>\n",
       "      <td>78039.38546</td>\n",
       "      <td>5</td>\n",
       "      <td>605</td>\n",
       "      <td>0</td>\n",
       "    </tr>\n",
       "    <tr>\n",
       "      <th>1</th>\n",
       "      <td>7442532</td>\n",
       "      <td>5</td>\n",
       "      <td>1958.928726</td>\n",
       "      <td>8228.752520</td>\n",
       "      <td>26648.43525</td>\n",
       "      <td>2</td>\n",
       "      <td>572</td>\n",
       "      <td>1</td>\n",
       "    </tr>\n",
       "    <tr>\n",
       "      <th>2</th>\n",
       "      <td>2256073</td>\n",
       "      <td>0</td>\n",
       "      <td>3363.009259</td>\n",
       "      <td>2027.830850</td>\n",
       "      <td>65866.71246</td>\n",
       "      <td>4</td>\n",
       "      <td>602</td>\n",
       "      <td>0</td>\n",
       "    </tr>\n",
       "    <tr>\n",
       "      <th>3</th>\n",
       "      <td>4885975</td>\n",
       "      <td>0</td>\n",
       "      <td>4766.648001</td>\n",
       "      <td>2501.730397</td>\n",
       "      <td>74356.88347</td>\n",
       "      <td>5</td>\n",
       "      <td>612</td>\n",
       "      <td>0</td>\n",
       "    </tr>\n",
       "    <tr>\n",
       "      <th>4</th>\n",
       "      <td>4700614</td>\n",
       "      <td>1</td>\n",
       "      <td>1345.827718</td>\n",
       "      <td>1768.826187</td>\n",
       "      <td>23448.32631</td>\n",
       "      <td>6</td>\n",
       "      <td>631</td>\n",
       "      <td>0</td>\n",
       "    </tr>\n",
       "  </tbody>\n",
       "</table>\n",
       "</div>"
      ],
      "text/plain": [
       "   customer_id  credit_lines_outstanding  loan_amt_outstanding  \\\n",
       "0      8153374                         0           5221.545193   \n",
       "1      7442532                         5           1958.928726   \n",
       "2      2256073                         0           3363.009259   \n",
       "3      4885975                         0           4766.648001   \n",
       "4      4700614                         1           1345.827718   \n",
       "\n",
       "   total_debt_outstanding       income  years_employed  fico_score  default  \n",
       "0             3915.471226  78039.38546               5         605        0  \n",
       "1             8228.752520  26648.43525               2         572        1  \n",
       "2             2027.830850  65866.71246               4         602        0  \n",
       "3             2501.730397  74356.88347               5         612        0  \n",
       "4             1768.826187  23448.32631               6         631        0  "
      ]
     },
     "execution_count": 3,
     "metadata": {},
     "output_type": "execute_result"
    }
   ],
   "source": [
    "# Loading the data\n",
    "data = pd.read_csv(\"Task 3 and 4_Loan_Data.csv\")\n",
    "data.head()"
   ]
  },
  {
   "cell_type": "code",
   "execution_count": 4,
   "id": "eda471d0",
   "metadata": {
    "scrolled": false
   },
   "outputs": [
    {
     "data": {
      "image/png": "[encoded data removed]",
      "text/plain": [
       "<Figure size 640x480 with 1 Axes>"
      ]
     },
     "metadata": {},
     "output_type": "display_data"
    }
   ],
   "source": [
    "# Plotting distribution of FICO scores\n",
    "plt.hist(data[\"fico_score\"], bins = 20, color = \"skyblue\", edgecolor = \"black\")\n",
    "plt.xlabel(\"FICO Score\")\n",
    "plt.ylabel(\"Frequency\")\n",
    "plt.title(\"Distribution of FICO Scores\");"
   ]
  },
  {
   "cell_type": "code",
   "execution_count": 10,
   "id": "f8fb7061",
   "metadata": {},
   "outputs": [
    {
     "data": {
      "text/plain": [
       "[408.0, 496.4, 584.8, 673.2, 761.6, 850.0]"
      ]
     },
     "execution_count": 10,
     "metadata": {},
     "output_type": "execute_result"
    }
   ],
   "source": [
    "# Number and name of rating buckets\n",
    "num_buckets = 5\n",
    "bucket_names = [\"Very Poor\", \"Poor\", \"Fair\", \"Good\", \"Very Good\"]\n",
    "\n",
    "\n",
    "# Sorting FICO scores in ascending order\n",
    "fico_scores = data[\"fico_score\"].sort_values()\n",
    "\n",
    "# Calculate evenly-spaced initial boundaries\n",
    "initial_boundaries = list(np.linspace(fico_scores.min(), fico_scores.max(), num_buckets+1))\n",
    "initial_boundaries"
   ]
  },
  {
   "cell_type": "code",
   "execution_count": 6,
   "id": "8d92fa84",
   "metadata": {},
   "outputs": [],
   "source": [
    "# Finding midpoints\n",
    "midpoints = []\n",
    "for i in range(len(initial_boundaries) - 1):\n",
    "    midpoints.append((initial_boundaries[i] + initial_boundaries[i+1]) / 2)"
   ]
  },
  {
   "cell_type": "code",
   "execution_count": 15,
   "id": "2dba14bc",
   "metadata": {
    "scrolled": false
   },
   "outputs": [
    {
     "data": {
      "image/png": "[encoded data removed]",
      "text/plain": [
       "<Figure size 640x480 with 1 Axes>"
      ]
     },
     "metadata": {},
     "output_type": "display_data"
    }
   ],
   "source": [
    "# Plotting distribution of buckets\n",
    "plt.hist(fico_scores, bins = initial_boundaries, color = \"skyblue\", edgecolor = \"black\")\n",
    "plt.xticks(midpoints, labels = bucket_names)\n",
    "plt.xlabel(\"Bucket Rating\")\n",
    "plt.ylabel(\"Frequency\")\n",
    "plt.title(\"Distribution of Bucket Ratings\");"
   ]
  },
  {
   "cell_type": "code",
   "execution_count": 17,
   "id": "0d0ea162",
   "metadata": {},
   "outputs": [],
   "source": [
    "# Define FICO score ranges\n",
    "score_ranges = [(350, 496.4), (496.4, 584.8), (584.8, 673.2), (673.2, 761.6), (761.6, 850)]\n",
    "\n",
    "# Initializing a dictionary to store scores for each range\n",
    "score_groups = {bucket: [] for bucket in bucket_names}\n",
    "\n",
    "# Group scores based on their ranges\n",
    "for score in fico_scores:\n",
    "    for i, (start, end) in enumerate(score_ranges):\n",
    "        if start <= score < end:\n",
    "            score_groups[bucket_names[i]].append(score)\n",
    "            break"
   ]
  },
  {
   "cell_type": "code",
   "execution_count": 20,
   "id": "4f5a4cc6",
   "metadata": {},
   "outputs": [],
   "source": [
    "# Calculate MSE for each group and store it in a dictionary\n",
    "mse_scores = {}\n",
    "for bucket, scores in score_groups.items():\n",
    "    mean = np.mean(scores)\n",
    "    mse = np.mean((scores - mean) ** 2)\n",
    "    mse_scores[bucket] = mse"
   ]
  },
  {
   "cell_type": "code",
   "execution_count": 22,
   "id": "877723ac",
   "metadata": {},
   "outputs": [
    {
     "name": "stdout",
     "output_type": "stream",
     "text": [
      "MSE for Very Poor: 323.2433147046451\n",
      "MSE for Poor: 502.81808155782113\n",
      "MSE for Fair: 613.4499051659516\n",
      "MSE for Good: 496.4668622748197\n",
      "MSE for Very Good: 293.27359995274105\n"
     ]
    }
   ],
   "source": [
    "for bucket, mse in mse_scores.items():\n",
    "    print(f\"MSE for {bucket}: {mse}\")"
   ]
  }
 ],
 "metadata": {
  "kernelspec": {
   "display_name": "Python 3 (ipykernel)",
   "language": "python",
   "name": "python3"
  },
  "language_info": {
   "codemirror_mode": {
    "name": "ipython",
    "version": 3
   },
   "file_extension": ".py",
   "mimetype": "text/x-python",
   "name": "python",
   "nbconvert_exporter": "python",
   "pygments_lexer": "ipython3",
   "version": "3.11.5"
  }
 },
 "nbformat": 4,
 "nbformat_minor": 5
}
